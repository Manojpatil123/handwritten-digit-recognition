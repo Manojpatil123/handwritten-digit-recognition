{
 "cells": [
  {
   "cell_type": "markdown",
   "metadata": {},
   "source": [
    "importing all required library"
   ]
  },
  {
   "cell_type": "markdown",
   "metadata": {},
   "source": [
    "for the Handwritten Digit Recognition i have used mnist dataset. and dataset has resolution of 28 *28 pexels. i normalized all the pexels in same scale .\n",
    "i have created cnn model of 3 layer of convolution layers. and used stratifiedkfold cross validation technique due evaluate model performace.\n",
    "\n"
   ]
  },
  {
   "cell_type": "code",
   "execution_count": 1,
   "metadata": {},
   "outputs": [
    {
     "name": "stdout",
     "output_type": "stream",
     "text": [
      "Downloading data from https://storage.googleapis.com/tensorflow/tf-keras-datasets/mnist.npz\n",
      "11490434/11490434 [==============================] - 3s 0us/step\n",
      "Epoch 1/10\n",
      "750/750 [==============================] - 19s 24ms/step - loss: 0.2012 - accuracy: 0.9382 - val_loss: 0.0603 - val_accuracy: 0.9818\n",
      "Epoch 2/10\n",
      "  7/750 [..............................] - ETA: 16s - loss: 0.0722 - accuracy: 0.9754"
     ]
    },
    {
     "name": "stderr",
     "output_type": "stream",
     "text": [
      "d:\\Newfolder\\1004646\\Anaconda3\\envs\\googlescrapper\\lib\\site-packages\\keras\\src\\engine\\training.py:3079: UserWarning: You are saving your model as an HDF5 file via `model.save()`. This file format is considered legacy. We recommend using instead the native Keras format, e.g. `model.save('my_model.keras')`.\n",
      "  saving_api.save_model(\n"
     ]
    },
    {
     "name": "stdout",
     "output_type": "stream",
     "text": [
      "750/750 [==============================] - 15s 20ms/step - loss: 0.0551 - accuracy: 0.9833 - val_loss: 0.0492 - val_accuracy: 0.9856\n",
      "Epoch 3/10\n",
      "750/750 [==============================] - 16s 21ms/step - loss: 0.0382 - accuracy: 0.9880 - val_loss: 0.0344 - val_accuracy: 0.9892\n",
      "Epoch 4/10\n",
      "750/750 [==============================] - 16s 21ms/step - loss: 0.0311 - accuracy: 0.9902 - val_loss: 0.0365 - val_accuracy: 0.9890\n",
      "Epoch 5/10\n",
      "750/750 [==============================] - 16s 21ms/step - loss: 0.0222 - accuracy: 0.9931 - val_loss: 0.0417 - val_accuracy: 0.9877\n",
      "Epoch 6/10\n",
      "750/750 [==============================] - 16s 21ms/step - loss: 0.0186 - accuracy: 0.9936 - val_loss: 0.0397 - val_accuracy: 0.9890\n",
      "375/375 [==============================] - 2s 6ms/step - loss: 0.0344 - accuracy: 0.9892\n",
      "Epoch 1/10\n",
      "750/750 [==============================] - 17s 22ms/step - loss: 0.2116 - accuracy: 0.9361 - val_loss: 0.0925 - val_accuracy: 0.9720\n",
      "Epoch 2/10\n",
      "750/750 [==============================] - 16s 22ms/step - loss: 0.0593 - accuracy: 0.9817 - val_loss: 0.0490 - val_accuracy: 0.9847\n",
      "Epoch 3/10\n",
      "750/750 [==============================] - 16s 22ms/step - loss: 0.0420 - accuracy: 0.9865 - val_loss: 0.0417 - val_accuracy: 0.9862\n",
      "Epoch 4/10\n",
      "750/750 [==============================] - 16s 22ms/step - loss: 0.0326 - accuracy: 0.9898 - val_loss: 0.0431 - val_accuracy: 0.9864\n",
      "Epoch 5/10\n",
      "750/750 [==============================] - 16s 22ms/step - loss: 0.0257 - accuracy: 0.9916 - val_loss: 0.0386 - val_accuracy: 0.9887\n",
      "Epoch 6/10\n",
      "750/750 [==============================] - 16s 22ms/step - loss: 0.0230 - accuracy: 0.9925 - val_loss: 0.0371 - val_accuracy: 0.9887\n",
      "Epoch 7/10\n",
      "750/750 [==============================] - 16s 22ms/step - loss: 0.0177 - accuracy: 0.9944 - val_loss: 0.0340 - val_accuracy: 0.9905\n",
      "Epoch 8/10\n",
      "750/750 [==============================] - 16s 22ms/step - loss: 0.0153 - accuracy: 0.9952 - val_loss: 0.0407 - val_accuracy: 0.9895\n",
      "Epoch 9/10\n",
      "750/750 [==============================] - 17s 23ms/step - loss: 0.0135 - accuracy: 0.9957 - val_loss: 0.0427 - val_accuracy: 0.9891\n",
      "Epoch 10/10\n",
      "750/750 [==============================] - 16s 22ms/step - loss: 0.0117 - accuracy: 0.9958 - val_loss: 0.0381 - val_accuracy: 0.9907\n",
      "375/375 [==============================] - 2s 6ms/step - loss: 0.0340 - accuracy: 0.9905\n",
      "Epoch 1/10\n",
      "750/750 [==============================] - 18s 23ms/step - loss: 0.2166 - accuracy: 0.9326 - val_loss: 0.0583 - val_accuracy: 0.9813\n",
      "Epoch 2/10\n",
      "750/750 [==============================] - 17s 22ms/step - loss: 0.0586 - accuracy: 0.9820 - val_loss: 0.0534 - val_accuracy: 0.9822\n",
      "Epoch 3/10\n",
      "750/750 [==============================] - 17s 22ms/step - loss: 0.0413 - accuracy: 0.9869 - val_loss: 0.0409 - val_accuracy: 0.9875\n",
      "Epoch 4/10\n",
      "750/750 [==============================] - 18s 24ms/step - loss: 0.0313 - accuracy: 0.9898 - val_loss: 0.0404 - val_accuracy: 0.9878\n",
      "Epoch 5/10\n",
      "750/750 [==============================] - 17s 23ms/step - loss: 0.0254 - accuracy: 0.9920 - val_loss: 0.0422 - val_accuracy: 0.9883\n",
      "Epoch 6/10\n",
      "750/750 [==============================] - 17s 23ms/step - loss: 0.0208 - accuracy: 0.9932 - val_loss: 0.0309 - val_accuracy: 0.9915\n",
      "Epoch 7/10\n",
      "750/750 [==============================] - 17s 23ms/step - loss: 0.0156 - accuracy: 0.9950 - val_loss: 0.0387 - val_accuracy: 0.9897\n",
      "Epoch 8/10\n",
      "750/750 [==============================] - 18s 24ms/step - loss: 0.0143 - accuracy: 0.9950 - val_loss: 0.0419 - val_accuracy: 0.9903\n",
      "Epoch 9/10\n",
      "750/750 [==============================] - 17s 23ms/step - loss: 0.0121 - accuracy: 0.9961 - val_loss: 0.0342 - val_accuracy: 0.9917\n",
      "375/375 [==============================] - 3s 8ms/step - loss: 0.0309 - accuracy: 0.9915\n",
      "Epoch 1/10\n",
      "750/750 [==============================] - 18s 24ms/step - loss: 0.2207 - accuracy: 0.9330 - val_loss: 0.0766 - val_accuracy: 0.9749\n",
      "Epoch 2/10\n",
      "750/750 [==============================] - 17s 23ms/step - loss: 0.0538 - accuracy: 0.9835 - val_loss: 0.0542 - val_accuracy: 0.9833\n",
      "Epoch 3/10\n",
      "750/750 [==============================] - 18s 24ms/step - loss: 0.0383 - accuracy: 0.9878 - val_loss: 0.0404 - val_accuracy: 0.9880\n",
      "Epoch 4/10\n",
      "750/750 [==============================] - 18s 24ms/step - loss: 0.0284 - accuracy: 0.9910 - val_loss: 0.0420 - val_accuracy: 0.9868\n",
      "Epoch 5/10\n",
      "750/750 [==============================] - 18s 24ms/step - loss: 0.0235 - accuracy: 0.9929 - val_loss: 0.0398 - val_accuracy: 0.9865\n",
      "Epoch 6/10\n",
      "750/750 [==============================] - 18s 24ms/step - loss: 0.0199 - accuracy: 0.9935 - val_loss: 0.0466 - val_accuracy: 0.9880\n",
      "Epoch 7/10\n",
      "750/750 [==============================] - 18s 24ms/step - loss: 0.0156 - accuracy: 0.9949 - val_loss: 0.0524 - val_accuracy: 0.9865\n",
      "Epoch 8/10\n",
      "750/750 [==============================] - 18s 24ms/step - loss: 0.0136 - accuracy: 0.9956 - val_loss: 0.0482 - val_accuracy: 0.9869\n",
      "375/375 [==============================] - 3s 8ms/step - loss: 0.0398 - accuracy: 0.9865\n",
      "Epoch 1/10\n",
      "750/750 [==============================] - 19s 25ms/step - loss: 0.2018 - accuracy: 0.9377 - val_loss: 0.0685 - val_accuracy: 0.9786\n",
      "Epoch 2/10\n",
      "750/750 [==============================] - 19s 25ms/step - loss: 0.0564 - accuracy: 0.9830 - val_loss: 0.0454 - val_accuracy: 0.9859\n",
      "Epoch 3/10\n",
      "750/750 [==============================] - 19s 25ms/step - loss: 0.0389 - accuracy: 0.9872 - val_loss: 0.0457 - val_accuracy: 0.9861\n",
      "Epoch 4/10\n",
      "750/750 [==============================] - 19s 25ms/step - loss: 0.0304 - accuracy: 0.9904 - val_loss: 0.0411 - val_accuracy: 0.9891\n",
      "Epoch 5/10\n",
      "750/750 [==============================] - 19s 25ms/step - loss: 0.0238 - accuracy: 0.9925 - val_loss: 0.0450 - val_accuracy: 0.9873\n",
      "Epoch 6/10\n",
      "750/750 [==============================] - 19s 25ms/step - loss: 0.0192 - accuracy: 0.9937 - val_loss: 0.0384 - val_accuracy: 0.9902\n",
      "Epoch 7/10\n",
      "750/750 [==============================] - 18s 25ms/step - loss: 0.0164 - accuracy: 0.9942 - val_loss: 0.0396 - val_accuracy: 0.9912\n",
      "Epoch 8/10\n",
      "750/750 [==============================] - 18s 25ms/step - loss: 0.0137 - accuracy: 0.9956 - val_loss: 0.0467 - val_accuracy: 0.9883\n",
      "Epoch 9/10\n",
      "750/750 [==============================] - 19s 25ms/step - loss: 0.0119 - accuracy: 0.9960 - val_loss: 0.0493 - val_accuracy: 0.9890\n",
      "375/375 [==============================] - 3s 8ms/step - loss: 0.0384 - accuracy: 0.9902\n",
      "313/313 [==============================] - 3s 8ms/step - loss: 0.0298 - accuracy: 0.9913\n",
      "Test accuracy: 0.9912999868392944\n",
      "Mean Validation Accuracy: 0.9896 ± 0.0017\n",
      "Mean Validation Loss: 0.0355 ± 0.0032\n"
     ]
    }
   ],
   "source": [
    "import numpy as np\n",
    "import tensorflow as tf\n",
    "from tensorflow.keras.datasets import mnist\n",
    "from tensorflow.keras.models import Sequential\n",
    "from tensorflow.keras.layers import Conv2D, MaxPooling2D, Flatten, Dense\n",
    "from tensorflow.keras.callbacks import EarlyStopping, ModelCheckpoint\n",
    "from sklearn.model_selection import StratifiedKFold\n",
    "\n",
    "# Load and preprocess the MNIST dataset\n",
    "(train_images, train_labels), (test_images, test_labels) = mnist.load_data()\n",
    "train_images = train_images.reshape((60000, 28, 28, 1)).astype('float32') / 255\n",
    "test_images = test_images.reshape((10000, 28, 28, 1)).astype('float32') / 255\n",
    "\n",
    "train_labels = tf.keras.utils.to_categorical(train_labels)\n",
    "test_labels = tf.keras.utils.to_categorical(test_labels)\n",
    "\n",
    "# Define the CNN model\n",
    "def create_model():\n",
    "    model = Sequential([\n",
    "        Conv2D(32, (3, 3), activation='relu', input_shape=(28, 28, 1)),\n",
    "        MaxPooling2D((2, 2)),\n",
    "        Conv2D(64, (3, 3), activation='relu'),\n",
    "        MaxPooling2D((2, 2)),\n",
    "        Conv2D(64, (3, 3), activation='relu'),\n",
    "        Flatten(),\n",
    "        Dense(64, activation='relu'),\n",
    "        Dense(10, activation='softmax')\n",
    "    ])\n",
    "    model.compile(optimizer='adam',\n",
    "                  loss='categorical_crossentropy',\n",
    "                  metrics=['accuracy'])\n",
    "    return model\n",
    "\n",
    "# Define cross-validation\n",
    "skf = StratifiedKFold(n_splits=5, shuffle=True)\n",
    "val_accuracies = []\n",
    "val_losses = []\n",
    "\n",
    "for train_index, val_index in skf.split(train_images, np.argmax(train_labels, axis=1)):\n",
    "    X_train, X_val = train_images[train_index], train_images[val_index]\n",
    "    y_train, y_val = train_labels[train_index], train_labels[val_index]\n",
    "\n",
    "    # Create the model\n",
    "    model = create_model()\n",
    "\n",
    "    # Define callbacks\n",
    "    early_stopping = EarlyStopping(patience=3, monitor='val_loss', restore_best_weights=True)\n",
    "    checkpoint_path = 'best_model.h5'\n",
    "    model_checkpoint = ModelCheckpoint(filepath=checkpoint_path, save_best_only=True, monitor='val_loss', mode='min')\n",
    "\n",
    "    # Train the model\n",
    "    history = model.fit(X_train, y_train, epochs=10, batch_size=64, validation_data=(X_val, y_val),\n",
    "                        callbacks=[early_stopping, model_checkpoint])\n",
    "\n",
    "    # Evaluate the model\n",
    "    val_loss, val_acc = model.evaluate(X_val, y_val)\n",
    "    val_accuracies.append(val_acc)\n",
    "    val_losses.append(val_loss)\n",
    "\n",
    "# Evaluate on test set\n",
    "test_loss, test_acc = model.evaluate(test_images, test_labels)\n",
    "print(f'Test accuracy: {test_acc}')\n",
    "\n",
    "# Calculate mean and standard deviation of validation metrics\n",
    "print(f'Mean Validation Accuracy: {np.mean(val_accuracies):.4f} ± {np.std(val_accuracies):.4f}')\n",
    "print(f'Mean Validation Loss: {np.mean(val_losses):.4f} ± {np.std(val_losses):.4f}')\n"
   ]
  },
  {
   "cell_type": "markdown",
   "metadata": {},
   "source": [
    "overall the model i have created performing well, i got validation accuracy of 0.98 and tes accuracy of 0.99"
   ]
  },
  {
   "cell_type": "code",
   "execution_count": 2,
   "metadata": {},
   "outputs": [],
   "source": [
    "from sklearn.metrics import confusion_matrix\n",
    "import matplotlib.pyplot as plt\n",
    "import seaborn as sns"
   ]
  },
  {
   "cell_type": "code",
   "execution_count": 3,
   "metadata": {},
   "outputs": [
    {
     "name": "stdout",
     "output_type": "stream",
     "text": [
      "313/313 [==============================] - 2s 7ms/step\n",
      "313/313 [==============================] - 2s 6ms/step\n",
      "313/313 [==============================] - 2s 6ms/step\n",
      "313/313 [==============================] - 2s 6ms/step\n",
      "313/313 [==============================] - 2s 7ms/step\n"
     ]
    },
    {
     "data": {
      "image/png": "[encoded data removed]",
      "text/plain": [
       "<Figure size 800x600 with 1 Axes>"
      ]
     },
     "metadata": {},
     "output_type": "display_data"
    }
   ],
   "source": [
    "# Create lists to store predictions and ground truths\n",
    "predicted_labels = []\n",
    "true_labels = []\n",
    "\n",
    "for train_index, val_index in skf.split(train_images, np.argmax(train_labels, axis=1)):\n",
    "    # (same training loop and model fitting code as provided earlier)\n",
    "\n",
    "    # Load the best model\n",
    "    best_model = tf.keras.models.load_model(checkpoint_path)\n",
    "\n",
    "    # Predict on the test set using the best model\n",
    "    predictions = best_model.predict(test_images)\n",
    "    predicted_labels.extend(np.argmax(predictions, axis=1))\n",
    "    true_labels.extend(np.argmax(test_labels, axis=1))\n",
    "\n",
    "# Calculate the confusion matrix\n",
    "conf_matrix = confusion_matrix(true_labels, predicted_labels)\n",
    "\n",
    "# Plot the confusion matrix\n",
    "plt.figure(figsize=(8, 6))\n",
    "sns.heatmap(conf_matrix, annot=True, fmt='d', cmap='Blues', cbar=False)\n",
    "plt.xlabel('Predicted Label')\n",
    "plt.ylabel('True Label')\n",
    "plt.title('Confusion Matrix')\n",
    "plt.show()"
   ]
  },
  {
   "cell_type": "markdown",
   "metadata": {},
   "source": [
    "Based on confusion matrics model is performing very good.\n",
    "\n",
    "but when i try this model i observed some times it fails to predict correct class. still there is room for imrovement by adding new variety of dataset we can achive still better result"
   ]
  },
  {
   "cell_type": "markdown",
   "metadata": {},
   "source": []
  }
 ],
 "metadata": {
  "kernelspec": {
   "display_name": "googlescrapper",
   "language": "python",
   "name": "python3"
  },
  "language_info": {
   "codemirror_mode": {
    "name": "ipython",
    "version": 3
   },
   "file_extension": ".py",
   "mimetype": "text/x-python",
   "name": "python",
   "nbconvert_exporter": "python",
   "pygments_lexer": "ipython3",
   "version": "3.10.10"
  }
 },
 "nbformat": 4,
 "nbformat_minor": 2
}
